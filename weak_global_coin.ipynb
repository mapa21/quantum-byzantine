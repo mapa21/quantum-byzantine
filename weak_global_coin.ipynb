{
 "cells": [
  {
   "cell_type": "code",
   "execution_count": null,
   "metadata": {},
   "outputs": [],
   "source": [
    "#!pip install qiskit\n",
    "#!pip install qiskit[visualization]"
   ]
  },
  {
   "cell_type": "code",
   "execution_count": null,
   "metadata": {},
   "outputs": [],
   "source": [
    "from qiskit import QuantumCircuit, transpile\n",
    "from qiskit.quantum_info import Statevector\n",
    "from qiskit.visualization import plot_histogram\n",
    "from qiskit_aer import Aer\n",
    "import numpy as np\n",
    "\n",
    "n = 2\n",
    "backend = Aer.get_backend('aer_simulator')\n",
    "\n",
    "n_cube = pow(n,3)\n",
    "norm = np.sqrt(n_cube)\n",
    "nr_bits = int(np.floor(np.log2(n_cube)) + 1)\n",
    "dims_value = int(pow(2,nr_bits))\n",
    "\n",
    "coin_msgs = []\n",
    "leader_msgs = []"
   ]
  },
  {
   "cell_type": "markdown",
   "metadata": {},
   "source": [
    "### Send messages between processes\n",
    "sender → sender_id \n",
    "\n",
    "receivers → set of processes meant to receive the message\n",
    "\n",
    "circuit → message from sender to receiver(s)"
   ]
  },
  {
   "cell_type": "code",
   "execution_count": null,
   "metadata": {},
   "outputs": [],
   "source": [
    "class Message:\n",
    "    def __init__(self, sender, receivers, circuit) -> None:\n",
    "        self.sender = sender\n",
    "        self.receivers = receivers\n",
    "        self.circuit = circuit\n",
    "        self.result = None\n",
    "        self.memory = None\n",
    "    def __str__(self):\n",
    "        return f\"sender: {self.sender} | receivers: {self.receivers} | memory: {self.memory}\"\n",
    "    def measure_circuit(self):\n",
    "        backend = Aer.get_backend('aer_simulator')\n",
    "        #self.circuit = transpile(self.circuit, backend)\n",
    "        self.circuit.save_statevector()\n",
    "        self.result = backend.run(self.circuit, memory=True, shots=1).result()\n",
    "        self.memory = self.result.get_memory()[0]"
   ]
  },
  {
   "cell_type": "markdown",
   "metadata": {},
   "source": [
    "### Generate coin state"
   ]
  },
  {
   "cell_type": "code",
   "execution_count": null,
   "metadata": {},
   "outputs": [],
   "source": [
    "def generate_coin(process_id):\n",
    "    qc = QuantumCircuit(n)\n",
    "    qc.h(0)\n",
    "    for i in range(1,n):\n",
    "        qc.cx(0,i)\n",
    "        #qc.cx(i-1,i)\n",
    "    qc.draw('mpl')\n",
    "    qc.measure_all()\n",
    "    new_msg = Message(process_id, list(range(0,n)), qc)\n",
    "    coin_msgs.append(new_msg)"
   ]
  },
  {
   "cell_type": "markdown",
   "metadata": {},
   "source": [
    "### Generate Leader state"
   ]
  },
  {
   "cell_type": "code",
   "execution_count": null,
   "metadata": {},
   "outputs": [],
   "source": [
    "def tensor_n_qudits(qudit, nr_times):\n",
    "    partial_copy = qudit.copy()\n",
    "    tensor_vec = qudit.tensor(partial_copy)\n",
    "    for i in range(1,nr_times-1):\n",
    "            tensor_vec = tensor_vec.tensor(partial_copy)\n",
    "    return tensor_vec"
   ]
  },
  {
   "cell_type": "code",
   "execution_count": null,
   "metadata": {},
   "outputs": [],
   "source": [
    "def generate_leader(process_id):\n",
    "    qudit = Statevector.from_int(1,dims=dims_value)\n",
    "    final_ket = (1 / norm) * tensor_n_qudits(qudit,n)\n",
    "\n",
    "    for i in range(2,n_cube+1):\n",
    "        qudit = Statevector.from_int(i,dims=dims_value)\n",
    "        final_ket += (1 / norm) * tensor_n_qudits(qudit,n)\n",
    "\n",
    "    circuit_nr_bits = n * nr_bits\n",
    "    another_qc = QuantumCircuit(circuit_nr_bits)\n",
    "    another_qc.initialize(final_ket.data)\n",
    "    another_qc.measure_all()\n",
    "\n",
    "    new_msg = Message(process_id, list(range(0,n)), another_qc)\n",
    "    leader_msgs.append(new_msg)"
   ]
  },
  {
   "cell_type": "markdown",
   "metadata": {},
   "source": [
    "### QuantumCoinFlip"
   ]
  },
  {
   "cell_type": "code",
   "execution_count": null,
   "metadata": {},
   "outputs": [],
   "source": [
    "def get_highest_leader():\n",
    "    leader_measurements = []\n",
    "    for i in range(len(leader_msgs)):\n",
    "        process_id = leader_msgs[i].sender\n",
    "        leader_outcome = leader_msgs[i].memory[:nr_bits]\n",
    "        leader_measurements.append((process_id, leader_outcome))\n",
    "    return max(leader_measurements, key=lambda x:x[1])"
   ]
  },
  {
   "cell_type": "code",
   "execution_count": null,
   "metadata": {},
   "outputs": [],
   "source": [
    "for i in range(n):\n",
    "    generate_coin(i)\n",
    "    generate_leader(i)\n",
    "\n",
    "for i in range(len(leader_msgs)):\n",
    "    leader_msgs[i].measure_circuit()\n",
    "    print(leader_msgs[i].memory)\n",
    "\n",
    "leader_process_id, highest_leader = get_highest_leader()"
   ]
  }
 ],
 "metadata": {
  "kernelspec": {
   "display_name": "Python 3",
   "language": "python",
   "name": "python3"
  },
  "language_info": {
   "codemirror_mode": {
    "name": "ipython",
    "version": 3
   },
   "file_extension": ".py",
   "mimetype": "text/x-python",
   "name": "python",
   "nbconvert_exporter": "python",
   "pygments_lexer": "ipython3",
   "version": "3.10.4"
  }
 },
 "nbformat": 4,
 "nbformat_minor": 2
}
