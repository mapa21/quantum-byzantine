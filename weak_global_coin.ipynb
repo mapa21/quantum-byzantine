{
 "cells": [
  {
   "cell_type": "code",
   "execution_count": null,
   "metadata": {},
   "outputs": [],
   "source": [
    "#!pip install qiskit\n",
    "#!pip install qiskit[visualization]"
   ]
  },
  {
   "cell_type": "code",
   "execution_count": null,
   "metadata": {},
   "outputs": [],
   "source": [
    "from qiskit import QuantumCircuit\n",
    "from qiskit.quantum_info import Statevector\n",
    "from qiskit.visualization import plot_histogram\n",
    "from qiskit_aer import Aer\n",
    "import numpy as np"
   ]
  },
  {
   "cell_type": "markdown",
   "metadata": {},
   "source": [
    "### Generate coin state"
   ]
  },
  {
   "cell_type": "code",
   "execution_count": null,
   "metadata": {},
   "outputs": [],
   "source": [
    "n = 2\n",
    "qc = QuantumCircuit(n)\n",
    "qc.h(0)\n",
    "for i in range(1,n):\n",
    "    qc.cx(0,i)\n",
    "    #qc.cx(i-1,i)\n",
    "qc.draw('mpl')"
   ]
  },
  {
   "cell_type": "markdown",
   "metadata": {},
   "source": [
    "Verify _coin_ state acts accordingly by running the quantum circuit in aer backend"
   ]
  },
  {
   "cell_type": "code",
   "execution_count": null,
   "metadata": {},
   "outputs": [],
   "source": [
    "backend = Aer.get_backend('aer_simulator')\n",
    "qc.save_statevector()\n",
    "result = backend.run(qc).result()\n",
    "counts = result.get_counts()\n",
    "plot_histogram(counts)"
   ]
  },
  {
   "cell_type": "markdown",
   "metadata": {},
   "source": [
    "### Generate Leader state"
   ]
  },
  {
   "cell_type": "code",
   "execution_count": null,
   "metadata": {},
   "outputs": [],
   "source": [
    "def tensor_n_qudits(qudit, nr_times):\n",
    "    partial_copy = qudit.copy()\n",
    "    tensor_vec = qudit.tensor(partial_copy)\n",
    "    for i in range(1,nr_times-1):\n",
    "            tensor_vec = tensor_vec.tensor(partial_copy)\n",
    "    return tensor_vec"
   ]
  },
  {
   "cell_type": "code",
   "execution_count": null,
   "metadata": {},
   "outputs": [],
   "source": [
    "n_cube = pow(n,3)\n",
    "norm = np.sqrt(n_cube)\n",
    "nr_bits = np.floor(np.log2(n_cube)) + 1\n",
    "dims_value = int(pow(2,nr_bits))\n",
    "\n",
    "qudit = Statevector.from_int(1,dims=dims_value)\n",
    "final_ket = (1 / norm) * tensor_n_qudits(qudit,n)\n",
    "\n",
    "for i in range(2,n_cube+1):\n",
    "    qudit = Statevector.from_int(i,dims=dims_value)\n",
    "    final_ket += (1 / norm) * tensor_n_qudits(qudit,n)\n",
    "display(final_ket.to_dict())"
   ]
  },
  {
   "cell_type": "markdown",
   "metadata": {},
   "source": [
    "Verify _leader_ state acts accordingly by running the quantum circuit in aer backend"
   ]
  },
  {
   "cell_type": "code",
   "execution_count": null,
   "metadata": {},
   "outputs": [],
   "source": [
    "circuit_nr_bits = n * nr_bits\n",
    "another_qc = QuantumCircuit(circuit_nr_bits)\n",
    "another_qc.initialize(final_ket.data)\n",
    "\n",
    "backend = Aer.get_backend('aer_simulator')\n",
    "another_qc.save_statevector()           # The final state of the simulator can be saved to the returned Result object by appending the save_state() instruction to a quantum circuit.\n",
    "result = backend.run(another_qc).result()\n",
    "\n",
    "counts = result.get_counts()\n",
    "plot_histogram(counts)"
   ]
  }
 ],
 "metadata": {
  "kernelspec": {
   "display_name": "Python 3",
   "language": "python",
   "name": "python3"
  },
  "language_info": {
   "codemirror_mode": {
    "name": "ipython",
    "version": 3
   },
   "file_extension": ".py",
   "mimetype": "text/x-python",
   "name": "python",
   "nbconvert_exporter": "python",
   "pygments_lexer": "ipython3",
   "version": "3.10.4"
  }
 },
 "nbformat": 4,
 "nbformat_minor": 2
}
