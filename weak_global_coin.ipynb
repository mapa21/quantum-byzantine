{
 "cells": [
  {
   "cell_type": "code",
   "execution_count": null,
   "metadata": {},
   "outputs": [],
   "source": [
    "#!pip install qiskit\n",
    "#!pip install qiskit[visualization]\n",
    "#!pip install waiting"
   ]
  },
  {
   "cell_type": "code",
   "execution_count": null,
   "metadata": {},
   "outputs": [],
   "source": [
    "from qiskit import QuantumCircuit\n",
    "from qiskit_aer import AerSimulator\n",
    "import numpy as np\n",
    "from qiskit.transpiler.preset_passmanagers import generate_preset_pass_manager\n",
    "from qiskit_ibm_runtime import SamplerV2\n",
    "\n",
    "from threading import Thread, Lock, Condition"
   ]
  },
  {
   "cell_type": "markdown",
   "metadata": {},
   "source": [
    "### Initial parameters"
   ]
  },
  {
   "cell_type": "code",
   "execution_count": null,
   "metadata": {},
   "outputs": [],
   "source": [
    "n = 4\n",
    "t = 0\n",
    "n_cube = pow(n,3)\n",
    "\n",
    "qb_per_process = int(np.ceil(np.log2(n_cube)))\n",
    "\n",
    "MAX_ALIVE_PROCESSES = n - t"
   ]
  },
  {
   "cell_type": "markdown",
   "metadata": {},
   "source": [
    "### Quantum Factory"
   ]
  },
  {
   "cell_type": "code",
   "execution_count": null,
   "metadata": {},
   "outputs": [],
   "source": [
    "class QuantumFactory:\n",
    "    def __init__(self) -> None:\n",
    "        self.coin = None\n",
    "        self.leader = None\n",
    "        self.generate_coin_circuit()\n",
    "        self.generate_leader_circuit()\n",
    "\n",
    "    def generate_coin_circuit(self):\n",
    "        qc = QuantumCircuit(n)\n",
    "        qc.h(0)\n",
    "        qc.cx(0,range(1,n))\n",
    "        qc.measure_all()    \n",
    "        self.coin = qc\n",
    "    \n",
    "    def generate_leader_circuit(self):\n",
    "        total_qubits = n * qb_per_process\n",
    "        qc = QuantumCircuit(total_qubits)\n",
    "        qc.h(range(0, qb_per_process))\n",
    "\n",
    "        for j in range(1,n):\n",
    "            for i in range(0, qb_per_process):\n",
    "                qc.cx(i, i + j * qb_per_process)\n",
    "        qc.measure_all()\n",
    "        self.leader = qc\n",
    "\n",
    "    def get_coin_circuit(self) -> QuantumCircuit:\n",
    "         return self.coin.copy()\n",
    "    \n",
    "    def get_leader_circuit(self) -> QuantumCircuit:\n",
    "         return self.leader.copy()"
   ]
  },
  {
   "cell_type": "code",
   "execution_count": null,
   "metadata": {},
   "outputs": [],
   "source": [
    "class Circuit():\n",
    "    def __init__(self, system) -> None:\n",
    "        self.system = system\n",
    "        self.result = None\n",
    "        self.memory = None\n",
    "        self.measured = False\n",
    "    def measure_circuit(self):\n",
    "        aer_sim = AerSimulator(method=\"stabilizer\")\n",
    "        pm = generate_preset_pass_manager(backend=aer_sim, optimization_level=1)\n",
    "        isa_qc = pm.run(self.system)\n",
    "        sampler = SamplerV2(backend=aer_sim)\n",
    "        \n",
    "        result = sampler.run([isa_qc], shots=1).result()\n",
    "        data_pub = result[0].data\n",
    "        counts = data_pub.meas.get_counts()\n",
    "        self.memory = list(counts.keys())[0]"
   ]
  },
  {
   "cell_type": "markdown",
   "metadata": {},
   "source": [
    "### Send messages between processes\n",
    "sender → sender_id \n",
    "\n",
    "receivers → set of processes meant to receive the message\n",
    "\n",
    "system → message (i.e. a circuit) from sender to receiver(s)"
   ]
  },
  {
   "cell_type": "code",
   "execution_count": null,
   "metadata": {},
   "outputs": [],
   "source": [
    "class Message:\n",
    "    def __init__(self, sender, receivers, system) -> None:\n",
    "        self.sender = sender\n",
    "        self.receivers = receivers\n",
    "        self.circuit = Circuit(system)  \n",
    "    def __str__(self) -> str:\n",
    "        return f\"sender: {self.sender} | measured: {self.circuit.measured}\""
   ]
  },
  {
   "cell_type": "markdown",
   "metadata": {},
   "source": [
    "### Global variables"
   ]
  },
  {
   "cell_type": "code",
   "execution_count": null,
   "metadata": {},
   "outputs": [],
   "source": [
    "quantum_factory = QuantumFactory()\n",
    "coin_msgs = []\n",
    "leader_msgs = []\n",
    "\n",
    "threads = []\n",
    "\n",
    "coin_lock = Lock()\n",
    "leader_lock = Lock()\n",
    "coin_condition = Condition()\n",
    "leader_condition = Condition()"
   ]
  },
  {
   "cell_type": "markdown",
   "metadata": {},
   "source": [
    "### Acquire coin state (for each process)"
   ]
  },
  {
   "cell_type": "code",
   "execution_count": null,
   "metadata": {},
   "outputs": [],
   "source": [
    "def send_coin(process_id, coin_condition):\n",
    "    coin_qc = quantum_factory.get_coin_circuit()\n",
    "    coin_lock.acquire()\n",
    "    new_msg = Message(process_id, list(range(0,n)), coin_qc)\n",
    "    coin_msgs.append(new_msg)\n",
    "    coin_lock.release()\n",
    "    \n",
    "    with coin_condition:\n",
    "        coin_condition.acquire()\n",
    "        if len(coin_msgs) >= MAX_ALIVE_PROCESSES:\n",
    "            coin_condition.notify_all()\n",
    "        coin_condition.release()"
   ]
  },
  {
   "cell_type": "markdown",
   "metadata": {},
   "source": [
    "### Acquire Leader state (for each process)"
   ]
  },
  {
   "cell_type": "code",
   "execution_count": null,
   "metadata": {},
   "outputs": [],
   "source": [
    "def send_leader(process_id, leader_condition):\n",
    "    leader_qc = quantum_factory.get_leader_circuit()\n",
    "    leader_lock.acquire()\n",
    "    new_msg = Message(process_id, list(range(0,n)), leader_qc)\n",
    "    leader_msgs.append(new_msg)\n",
    "    leader_lock.release()\n",
    "    \n",
    "    with leader_condition:\n",
    "        leader_condition.acquire()\n",
    "        if len(leader_msgs) >= MAX_ALIVE_PROCESSES:\n",
    "            leader_condition.notify_all()\n",
    "        leader_condition.release()"
   ]
  },
  {
   "cell_type": "markdown",
   "metadata": {},
   "source": [
    "### QuantumCoinFlip"
   ]
  },
  {
   "cell_type": "code",
   "execution_count": null,
   "metadata": {},
   "outputs": [],
   "source": [
    "def get_highest_leader_id():\n",
    "    leader_lock.acquire()\n",
    "    leader_measurements = {}\n",
    "    assert(len(leader_msgs) >= MAX_ALIVE_PROCESSES)\n",
    "    for i in range(len(leader_msgs)):\n",
    "        process_id = leader_msgs[i].sender\n",
    "\n",
    "        if not leader_msgs[i].circuit.measured:\n",
    "            leader_msgs[i].circuit.measure_circuit()\n",
    "            leader_msgs[i].circuit.measured = True\n",
    "        leader_outcome = int(leader_msgs[i].circuit.memory[:qb_per_process], 2)\n",
    "\n",
    "        existing_ids = leader_measurements.get(leader_outcome)\n",
    "        if existing_ids is not None:\n",
    "            existing_ids.append(process_id)\n",
    "        else:\n",
    "            existing_ids = [process_id]\n",
    "\n",
    "        leader_measurements.update({leader_outcome:existing_ids})\n",
    "    highest_leader_outcome = max(leader_measurements)\n",
    "\n",
    "    leader_processes_ids = leader_measurements.get(highest_leader_outcome)\n",
    "    leader_processes_ids.sort()\n",
    "    leader_lock.release()\n",
    "    return leader_processes_ids[0]"
   ]
  },
  {
   "cell_type": "code",
   "execution_count": null,
   "metadata": {},
   "outputs": [],
   "source": [
    "def old_quantum_coin_flip():\n",
    "    for i in range(n):\n",
    "        send_coin(i)\n",
    "        send_leader(i)\n",
    "\n",
    "    for i in range(len(leader_msgs)):\n",
    "        leader_msgs[i].circuit.measure_circuit()\n",
    "\n",
    "    leader_process_id  = get_highest_leader_id()\n",
    "\n",
    "    leader_coin = None\n",
    "\n",
    "    for i in range(len(coin_msgs)):\n",
    "        if coin_msgs[i].sender == leader_process_id:\n",
    "            coin_msgs[i].circuit.measure_circuit()\n",
    "            leader_coin = coin_msgs[i].circuit.memory\n",
    "    return leader_coin"
   ]
  },
  {
   "cell_type": "code",
   "execution_count": null,
   "metadata": {},
   "outputs": [],
   "source": [
    "def quantum_coin_flip(process):\n",
    "    send_coin(process.id, coin_condition)\n",
    "    send_leader(process.id, leader_condition)\n",
    "\n",
    "    with leader_condition:\n",
    "        while len(leader_msgs) < MAX_ALIVE_PROCESSES:\n",
    "            leader_condition.acquire()\n",
    "            leader_condition.wait()\n",
    "            leader_condition.release()\n",
    "\n",
    "    leader_process_id  = get_highest_leader_id()\n",
    "\n",
    "    leader_coin = None\n",
    "\n",
    "    with coin_condition:\n",
    "        while len(coin_msgs) < MAX_ALIVE_PROCESSES:\n",
    "            coin_condition.acquire()\n",
    "            coin_condition.wait()\n",
    "            coin_condition.release()\n",
    "\n",
    "    coin_lock.acquire()\n",
    "    for i in range(len(coin_msgs)):\n",
    "        if coin_msgs[i].sender == leader_process_id:\n",
    "            if not coin_msgs[i].circuit.measured:\n",
    "                coin_msgs[i].circuit.measure_circuit()\n",
    "                coin_msgs[i].circuit.measured = True\n",
    "            leader_coin = coin_msgs[i].circuit.memory\n",
    "    process.coin_output = leader_coin[process.id]\n",
    "    print(\"Process(\", process.id, \"): \", leader_coin[process.id])\n",
    "    coin_lock.release()\n",
    "    return leader_coin[process.id]"
   ]
  },
  {
   "cell_type": "code",
   "execution_count": null,
   "metadata": {},
   "outputs": [],
   "source": [
    "class Process:\n",
    "    def __init__(self, id) -> None:\n",
    "        self.id = id\n",
    "        self.coin_output = None"
   ]
  },
  {
   "cell_type": "code",
   "execution_count": null,
   "metadata": {},
   "outputs": [],
   "source": [
    "processes = []\n",
    "for i in range(0, n):\n",
    "    pr = Process(i)\n",
    "    processes.append(pr)\n",
    "    thr = Thread(target=quantum_coin_flip, args=(pr,))\n",
    "    threads.append(thr)\n",
    "\n",
    "for thr in threads:    \n",
    "    thr.start()\n",
    "\n",
    "for thr in threads:\n",
    "    thr.join()\n",
    "\n",
    "for pr in processes:\n",
    "    print(\"Coin for (\", pr.id, \") \", pr.coin_output)"
   ]
  }
 ],
 "metadata": {
  "kernelspec": {
   "display_name": "Python 3",
   "language": "python",
   "name": "python3"
  },
  "language_info": {
   "codemirror_mode": {
    "name": "ipython",
    "version": 3
   },
   "file_extension": ".py",
   "mimetype": "text/x-python",
   "name": "python",
   "nbconvert_exporter": "python",
   "pygments_lexer": "ipython3",
   "version": "3.10.4"
  }
 },
 "nbformat": 4,
 "nbformat_minor": 2
}
