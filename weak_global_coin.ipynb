{
 "cells": [
  {
   "cell_type": "code",
   "execution_count": null,
   "metadata": {},
   "outputs": [],
   "source": [
    "#!pip install qiskit\n",
    "#!pip install qiskit[visualization]"
   ]
  },
  {
   "cell_type": "code",
   "execution_count": null,
   "metadata": {},
   "outputs": [],
   "source": [
    "from qiskit import QuantumCircuit\n",
    "from qiskit.quantum_info import Statevector\n",
    "from qiskit.visualization import plot_histogram\n",
    "from qiskit_aer import Aer, AerSimulator\n",
    "import numpy as np\n",
    "from qiskit.transpiler.preset_passmanagers import generate_preset_pass_manager\n",
    "from qiskit_ibm_runtime import SamplerV2"
   ]
  },
  {
   "cell_type": "markdown",
   "metadata": {},
   "source": [
    "### Initial parameters"
   ]
  },
  {
   "cell_type": "code",
   "execution_count": null,
   "metadata": {},
   "outputs": [],
   "source": [
    "n = 10\n",
    "n_cube = pow(n,3)\n",
    "norm = np.sqrt(n_cube)\n",
    "nr_bits = int(np.floor(np.log2(n_cube)) + 1)\n",
    "dims_value = int(pow(2,nr_bits))\n",
    "\n",
    "qb_per_process = int(np.ceil(np.log2(n_cube)))\n",
    "total_qubits = n * qb_per_process"
   ]
  },
  {
   "cell_type": "markdown",
   "metadata": {},
   "source": [
    "### Quantum Factory"
   ]
  },
  {
   "cell_type": "code",
   "execution_count": null,
   "metadata": {},
   "outputs": [],
   "source": [
    "class QuantumFactory:\n",
    "    def __init__(self) -> None:\n",
    "        self.coin = None\n",
    "        self.leader = None\n",
    "        self.generate_coin_circuit()\n",
    "        #self.generate_leader_circuit()\n",
    "        self.generate_superposition_leader()\n",
    "\n",
    "    def generate_coin_circuit(self):\n",
    "        qc = QuantumCircuit(n)\n",
    "        qc.h(0)\n",
    "        qc.cx(0,range(1,n))\n",
    "        qc.measure_all()    \n",
    "        self.coin = qc\n",
    "    \n",
    "    def tensor_n_qudits(self, qudit, nr_times):\n",
    "        partial_copy = qudit.copy()\n",
    "        tensor_vec = qudit.tensor(partial_copy)\n",
    "        for i in range(1,nr_times-1):\n",
    "                tensor_vec = tensor_vec.tensor(partial_copy)\n",
    "        return tensor_vec\n",
    "    \n",
    "    def generate_leader_circuit(self):\n",
    "        qudit = Statevector.from_int(1,dims=dims_value)\n",
    "        final_ket = (1 / norm) * self.tensor_n_qudits(qudit,n)\n",
    "        #final_ket = (1 / norm) * qudit\n",
    "\n",
    "        for i in range(2,n_cube+1):\n",
    "            qudit = Statevector.from_int(i,dims=dims_value)\n",
    "            final_ket += (1 / norm) * self.tensor_n_qudits(qudit,n)\n",
    "            #final_ket += (1 / norm) * qudit\n",
    "\n",
    "        circuit_nr_bits = n * nr_bits\n",
    "        #circuit_nr_bits = nr_bits\n",
    "        another_qc = QuantumCircuit(circuit_nr_bits)\n",
    "        another_qc.initialize(final_ket.data)\n",
    "        another_qc.measure_all()\n",
    "        self.leader = another_qc\n",
    "\n",
    "    def generate_superposition_leader(self):\n",
    "        qc = QuantumCircuit(total_qubits)\n",
    "        qc.h(range(0, qb_per_process))\n",
    "\n",
    "        for j in range(1,n):\n",
    "            for i in range(0, qb_per_process):\n",
    "                qc.cx(i, i + j * qb_per_process)\n",
    "        qc.measure_all()\n",
    "        self.leader = qc\n",
    "\n",
    "    def get_coin_circuit(self) -> QuantumCircuit:\n",
    "         return self.coin.copy()\n",
    "    \n",
    "    def get_leader_circuit(self) -> QuantumCircuit:\n",
    "         return self.leader.copy()"
   ]
  },
  {
   "cell_type": "code",
   "execution_count": null,
   "metadata": {},
   "outputs": [],
   "source": [
    "class Circuit():\n",
    "    def __init__(self, system) -> None:\n",
    "        self.system = system\n",
    "        self.result = None\n",
    "        self.memory = None\n",
    "    def measure_circuit(self):\n",
    "        backend = Aer.get_backend('aer_simulator')\n",
    "        self.system.save_statevector()\n",
    "        self.result = backend.run(self.system, memory=True, shots=1).result()\n",
    "        self.memory = self.result.get_memory()[0]\n",
    "    def measure_circuit_sampler(self):\n",
    "        aer_sim = AerSimulator(method=\"stabilizer\")\n",
    "        #aer_sim = AerSimulator()\n",
    "        pm = generate_preset_pass_manager(backend=aer_sim, optimization_level=1)\n",
    "        isa_qc = pm.run(self.system)\n",
    "        sampler = SamplerV2(backend=aer_sim)\n",
    "        \n",
    "        result = sampler.run([isa_qc], shots=1).result()\n",
    "        data_pub = result[0].data\n",
    "        counts = data_pub.meas.get_counts()\n",
    "        self.memory = list(counts.keys())[0]"
   ]
  },
  {
   "cell_type": "markdown",
   "metadata": {},
   "source": [
    "### Send messages between processes\n",
    "sender → sender_id \n",
    "\n",
    "receivers → set of processes meant to receive the message\n",
    "\n",
    "circuit → message from sender to receiver(s)"
   ]
  },
  {
   "cell_type": "code",
   "execution_count": null,
   "metadata": {},
   "outputs": [],
   "source": [
    "class Message:\n",
    "    def __init__(self, sender, receivers, system) -> None:\n",
    "        self.sender = sender\n",
    "        self.receivers = receivers\n",
    "        self.circuit = Circuit(system)\n",
    "    def __str__(self):\n",
    "        return f\"sender: {self.sender} | receivers: {self.receivers} | memory: {self.circuit.memory}\"\n",
    "    "
   ]
  },
  {
   "cell_type": "markdown",
   "metadata": {},
   "source": [
    "### Global variables"
   ]
  },
  {
   "cell_type": "code",
   "execution_count": null,
   "metadata": {},
   "outputs": [],
   "source": [
    "quantum_factory = QuantumFactory()\n",
    "coin_msgs = []\n",
    "leader_msgs = []"
   ]
  },
  {
   "cell_type": "markdown",
   "metadata": {},
   "source": [
    "### Acquire coin state (for each process)"
   ]
  },
  {
   "cell_type": "code",
   "execution_count": null,
   "metadata": {},
   "outputs": [],
   "source": [
    "def send_coin(process_id):\n",
    "    coin_qc = quantum_factory.get_coin_circuit()\n",
    "    new_msg = Message(process_id, list(range(0,n)), coin_qc)\n",
    "    coin_msgs.append(new_msg)"
   ]
  },
  {
   "cell_type": "markdown",
   "metadata": {},
   "source": [
    "### Acquire Leader state (for each process)"
   ]
  },
  {
   "cell_type": "code",
   "execution_count": null,
   "metadata": {},
   "outputs": [],
   "source": [
    "def send_leader(process_id):\n",
    "    leader_qc = quantum_factory.get_leader_circuit()\n",
    "    new_msg = Message(process_id, list(range(0,n)), leader_qc)\n",
    "    leader_msgs.append(new_msg)"
   ]
  },
  {
   "cell_type": "markdown",
   "metadata": {},
   "source": [
    "### QuantumCoinFlip"
   ]
  },
  {
   "cell_type": "code",
   "execution_count": null,
   "metadata": {},
   "outputs": [],
   "source": [
    "def get_highest_leader():\n",
    "    leader_measurements = {}\n",
    "    for i in range(len(leader_msgs)):\n",
    "            process_id = leader_msgs[i].sender\n",
    "            leader_outcome = leader_msgs[i].circuit.memory[:nr_bits]  # with my exact approach\n",
    "\n",
    "            existing_ids = leader_measurements.get(leader_outcome)\n",
    "            if existing_ids is not None:\n",
    "                existing_ids.append(process_id)\n",
    "            else:\n",
    "                existing_ids = [process_id]\n",
    "\n",
    "            leader_measurements.update({leader_outcome:existing_ids})\n",
    "    print(leader_measurements)\n",
    "    highest_leader_outcome = max(leader_measurements, key=lambda x:x[0])    \n",
    "    leader_processes_ids = leader_measurements.get(highest_leader_outcome)\n",
    "    leader_processes_ids.sort()\n",
    "    print(\"after sort: \", leader_processes_ids)\n",
    "    print(\"highest_leader: \", leader_processes_ids[0])\n",
    "    return leader_processes_ids[0]"
   ]
  },
  {
   "cell_type": "code",
   "execution_count": null,
   "metadata": {},
   "outputs": [],
   "source": [
    "for i in range(n):\n",
    "    send_coin(i)\n",
    "    send_leader(i)\n",
    "\n",
    "for i in range(len(leader_msgs)):\n",
    "    leader_msgs[i].circuit.measure_circuit_sampler()\n",
    "    print(\"leader: \", int(leader_msgs[i].circuit.memory, 2), leader_msgs[i].circuit.memory)\n",
    "\n",
    "leader_process_id  = get_highest_leader()\n",
    "\n",
    "leader_coin = None\n",
    "\n",
    "for i in range(len(coin_msgs)):\n",
    "    if coin_msgs[i].sender == leader_process_id:\n",
    "        coin_msgs[i].circuit.measure_circuit_sampler()\n",
    "        leader_coin = coin_msgs[i].circuit.memory\n",
    "#print(\"highest_leader: \", leader_process_id)\n",
    "print(\"leader_coin: \", leader_coin)"
   ]
  }
 ],
 "metadata": {
  "kernelspec": {
   "display_name": "Python 3",
   "language": "python",
   "name": "python3"
  },
  "language_info": {
   "codemirror_mode": {
    "name": "ipython",
    "version": 3
   },
   "file_extension": ".py",
   "mimetype": "text/x-python",
   "name": "python",
   "nbconvert_exporter": "python",
   "pygments_lexer": "ipython3",
   "version": "3.10.4"
  }
 },
 "nbformat": 4,
 "nbformat_minor": 2
}
