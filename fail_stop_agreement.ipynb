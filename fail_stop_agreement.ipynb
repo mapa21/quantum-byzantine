{
 "cells": [
  {
   "cell_type": "code",
   "execution_count": null,
   "metadata": {},
   "outputs": [],
   "source": [
    "import numpy as np\n",
    "import threading"
   ]
  },
  {
   "cell_type": "code",
   "execution_count": null,
   "metadata": {},
   "outputs": [],
   "source": [
    "n = 4\n",
    "t = 0\n",
    "round_messages = {}                  # contains the count for every value received {value: count} \n",
    "broadcasted_messages = []\n",
    "\n",
    "QUESTION_MARK = \"?\"\n",
    "WAITING_MESSAGE = \"waiting\"\n",
    "HALF_PLUS_ONE = int(np.floor(n/2)) + 1\n",
    "\n",
    "broadcasting_lock = threading.Lock()"
   ]
  },
  {
   "cell_type": "code",
   "execution_count": null,
   "metadata": {},
   "outputs": [],
   "source": [
    "class Message:\n",
    "    def __init__(self, process_id, receivers) -> None:\n",
    "        self.sender = process_id\n",
    "        self.receivers = receivers \n",
    "        self.message = None\n",
    "\n",
    "class BroadcastMessage(Message):\n",
    "    def __init__(self, process_id, receivers, epoch, round, message) -> None:\n",
    "        super().__init__(process_id, receivers)\n",
    "        self.epoch = epoch\n",
    "        self.round = round\n",
    "        self.message = message\n",
    "        self.read = False\n",
    "    def __str__(self):\n",
    "        return f\"id: {self.sender} | epoch: {self.epoch} | round: {self.round} | message: {self.message}\""
   ]
  },
  {
   "cell_type": "code",
   "execution_count": null,
   "metadata": {},
   "outputs": [],
   "source": [
    "def broadcast(process_id, epoch, round, message):\n",
    "    new_msg = BroadcastMessage(process_id, list(range(n)), epoch, round, message)\n",
    "    broadcasted_messages.append(new_msg)\n",
    "\n",
    "def receive(process_id, epoch, round, required_val=None):\n",
    "    num_received_messages = 0\n",
    "    while num_received_messages < n-t:\n",
    "        for msg in broadcasted_messages:\n",
    "            if msg.epoch == epoch and msg.round == round and process_id in msg.receivers and not msg.read:\n",
    "                if round == 3:\n",
    "                    assert(msg.message == required_val)\n",
    "                \n",
    "                existing_count = round_messages.get(msg.message, 0)\n",
    "                existing_count += 1\n",
    "                round_messages.update({msg.message:existing_count})            \n",
    "\n",
    "                num_received_messages += 1\n",
    "        if round != 3:\n",
    "            break                  # no waiting condition on the number of received messages for round 1 and 2\n",
    "def get_majority_value():\n",
    "    for value, count in round_messages.items():\n",
    "        if count >= HALF_PLUS_ONE:\n",
    "            return value\n",
    "    return QUESTION_MARK\n",
    "def quantum_coin_flip():\n",
    "    return n*\"1\""
   ]
  },
  {
   "cell_type": "code",
   "execution_count": null,
   "metadata": {},
   "outputs": [],
   "source": [
    "def agreement(process_id, input):\n",
    "    current = input\n",
    "    next = False\n",
    "    epoch = 0\n",
    "    while True:\n",
    "        epoch += 1\n",
    "        broadcast(process_id, epoch, 1, current)\n",
    "        receive(process_id, epoch, 1)\n",
    "        \n",
    "        current = get_majority_value()\n",
    "\n",
    "        round_messages.clear()                  # needed so that round_messages can be reused for the counts of the next round\n",
    "        broadcast(process_id, epoch, 2, current)\n",
    "        receive(process_id, epoch, 2)\n",
    "\n",
    "        most_frequent_val = max(round_messages, key=round_messages.get)\n",
    "        answer = None\n",
    "        number = 0\n",
    "        if most_frequent_val != QUESTION_MARK:\n",
    "            answer = most_frequent_val\n",
    "            number = round_messages.get(most_frequent_val)\n",
    "\n",
    "        broadcast(process_id, epoch, 3, WAITING_MESSAGE)\n",
    "        receive(process_id, epoch, 3, WAITING_MESSAGE)\n",
    "        round_messages.clear()\n",
    "\n",
    "        coin = quantum_coin_flip()\n",
    "\n",
    "        if next: \n",
    "            break\n",
    "        \n",
    "        if number >= HALF_PLUS_ONE:\n",
    "            current = answer\n",
    "            next = True\n",
    "        elif number >= 1:\n",
    "            current = answer\n",
    "        else:\n",
    "            current = coin\n",
    "    print(\"Decision for \", process_id, \" = \", current)\n",
    "    return current"
   ]
  },
  {
   "cell_type": "code",
   "execution_count": null,
   "metadata": {},
   "outputs": [],
   "source": [
    "#input_val = 0\n",
    "threads = []\n",
    "for i in range(0, n):\n",
    "    t = threading.Thread(target=agreement, args=(i, i))\n",
    "    threads.append(t)\n",
    "\n",
    "for t in threads:    \n",
    "    t.start()\n",
    "\n",
    "for t in threads:\n",
    "    t.join()"
   ]
  }
 ],
 "metadata": {
  "kernelspec": {
   "display_name": ".venv",
   "language": "python",
   "name": "python3"
  },
  "language_info": {
   "codemirror_mode": {
    "name": "ipython",
    "version": 3
   },
   "file_extension": ".py",
   "mimetype": "text/x-python",
   "name": "python",
   "nbconvert_exporter": "python",
   "pygments_lexer": "ipython3",
   "version": "3.10.4"
  }
 },
 "nbformat": 4,
 "nbformat_minor": 2
}
