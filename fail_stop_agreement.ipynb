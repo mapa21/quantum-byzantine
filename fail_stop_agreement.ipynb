{
 "cells": [
  {
   "cell_type": "code",
   "execution_count": 5,
   "metadata": {},
   "outputs": [],
   "source": [
    "import numpy as np"
   ]
  },
  {
   "cell_type": "code",
   "execution_count": 6,
   "metadata": {},
   "outputs": [],
   "source": [
    "n = 2\n",
    "values_received = []\n",
    "round_messages = {}         # {value: count} \n",
    "broadcasted_messages = []\n",
    "\n",
    "QUESTION_MARK = \"?\"\n",
    "WAITING_MESSAGE = \"waiting\"\n",
    "HALF_PLUS_ONE = int(np.floor(n/2)) + 1"
   ]
  },
  {
   "cell_type": "code",
   "execution_count": 7,
   "metadata": {},
   "outputs": [],
   "source": [
    "class Message:\n",
    "    def __init__(self, process_id, receivers) -> None:\n",
    "        self.sender = process_id\n",
    "        self.receivers = receivers \n",
    "        self.message = None\n",
    "\n",
    "class BroadcastMessage(Message):\n",
    "    def __init__(self, process_id, receivers, epoch, round, message) -> None:\n",
    "        super().__init__(process_id, receivers)\n",
    "        self.epoch = epoch\n",
    "        self.round = round\n",
    "        self.message = message"
   ]
  },
  {
   "cell_type": "code",
   "execution_count": 8,
   "metadata": {},
   "outputs": [],
   "source": [
    "def broadcast(process_id, epoch, round, message):\n",
    "    new_msg = BroadcastMessage(process_id, list(range(n)), epoch, round, message)\n",
    "    broadcasted_messages.append(new_msg)\n",
    "def receive(epoch, round, message=None):\n",
    "    pass\n",
    "def majority_value():       # use round_messages dict to find the majority value\n",
    "    pass\n",
    "def get_messages_count():   # store in round_messages the count per every value\n",
    "    pass\n",
    "def quantum_coin_flip():\n",
    "    return n*\"1\""
   ]
  },
  {
   "cell_type": "code",
   "execution_count": 9,
   "metadata": {},
   "outputs": [],
   "source": [
    "def agreement(input):\n",
    "    current = input\n",
    "    next = False\n",
    "    epoch = 0\n",
    "    while True:\n",
    "        epoch += 1\n",
    "        broadcast(epoch, 1, current)\n",
    "        receive(epoch, 1)\n",
    "        \n",
    "        get_messages_count()\n",
    "        current = majority_value()\n",
    "\n",
    "        broadcast(epoch, 2, current)\n",
    "        receive(epoch, 2)\n",
    "\n",
    "        get_messages_count()\n",
    "        most_frequent_val = max(round_messages, key=round_messages.get)\n",
    "        answer = None\n",
    "        number = 0\n",
    "        if most_frequent_val != QUESTION_MARK:\n",
    "            answer = most_frequent_val\n",
    "            number = round_messages.get(most_frequent_val)\n",
    "\n",
    "        broadcast(epoch, 3, WAITING_MESSAGE)\n",
    "        receive(epoch, 3, WAITING_MESSAGE)\n",
    "\n",
    "        coin = quantum_coin_flip()\n",
    "\n",
    "        if next: \n",
    "            break\n",
    "        \n",
    "        if number >= HALF_PLUS_ONE:\n",
    "            current = answer\n",
    "            next = True\n",
    "        elif number >= 1:\n",
    "            current = answer\n",
    "        else:\n",
    "            current = coin\n",
    "    return current"
   ]
  }
 ],
 "metadata": {
  "kernelspec": {
   "display_name": ".venv",
   "language": "python",
   "name": "python3"
  },
  "language_info": {
   "codemirror_mode": {
    "name": "ipython",
    "version": 3
   },
   "file_extension": ".py",
   "mimetype": "text/x-python",
   "name": "python",
   "nbconvert_exporter": "python",
   "pygments_lexer": "ipython3",
   "version": "3.10.4"
  }
 },
 "nbformat": 4,
 "nbformat_minor": 2
}
