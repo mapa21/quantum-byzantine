{
 "cells": [
  {
   "cell_type": "code",
   "execution_count": null,
   "metadata": {},
   "outputs": [],
   "source": [
    "import numpy as np"
   ]
  },
  {
   "cell_type": "code",
   "execution_count": null,
   "metadata": {},
   "outputs": [],
   "source": [
    "n = 2\n",
    "values_received = []\n",
    "round_messages = {}         # {value: count} \n",
    "\n",
    "QUESTION_MARK = \"?\"\n",
    "WAITING_MESSAGE = \"waiting\""
   ]
  },
  {
   "cell_type": "code",
   "execution_count": null,
   "metadata": {},
   "outputs": [],
   "source": [
    "def broadcast(epoch, round, message):\n",
    "    pass    \n",
    "def receive(epoch, round, message=None):\n",
    "    pass\n",
    "def majority_value():\n",
    "    pass\n",
    "def get_messages_count():   #store in round_messages the count per every value\n",
    "    pass\n",
    "def quantum_coin_flip():\n",
    "    return n*\"1\""
   ]
  },
  {
   "cell_type": "code",
   "execution_count": null,
   "metadata": {},
   "outputs": [],
   "source": [
    "def agreement(input):\n",
    "    current = input\n",
    "    next = False\n",
    "    epoch = 1\n",
    "    while True:\n",
    "        broadcast(epoch, 1, current)\n",
    "        receive(epoch, 1)\n",
    "        \n",
    "        current = majority_value()\n",
    "\n",
    "        broadcast(epoch, 2, current)\n",
    "        receive(epoch, 2)\n",
    "\n",
    "        get_messages_count()\n",
    "        answer = None\n",
    "        number = 0\n",
    "        for value, count in round_messages.items():\n",
    "            if value != QUESTION_MARK:\n",
    "                answer = value\n",
    "                number = count\n",
    "\n",
    "        broadcast(epoch, 3, WAITING_MESSAGE)\n",
    "        receive(epoch, 3, WAITING_MESSAGE)\n",
    "\n",
    "        coin = quantum_coin_flip()\n",
    "\n",
    "        if next: \n",
    "            break\n",
    "        \n",
    "        if number >= int(np.floor(n/2)) + 1:\n",
    "            current = answer\n",
    "            next = True\n",
    "        elif number >= 1:\n",
    "            current = answer\n",
    "        else:\n",
    "            current = coin"
   ]
  }
 ],
 "metadata": {
  "language_info": {
   "name": "python"
  }
 },
 "nbformat": 4,
 "nbformat_minor": 2
}
