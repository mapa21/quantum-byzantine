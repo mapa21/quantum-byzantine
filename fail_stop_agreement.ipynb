{
 "cells": [
  {
   "cell_type": "code",
   "execution_count": null,
   "metadata": {},
   "outputs": [],
   "source": [
    "import numpy as np"
   ]
  },
  {
   "cell_type": "code",
   "execution_count": null,
   "metadata": {},
   "outputs": [],
   "source": [
    "n = 2\n",
    "values_received = []\n",
    "round_messages = {}         # {value: count} \n",
    "\n",
    "QUESTION_MARK = \"?\"\n",
    "WAITING_MESSAGE = \"waiting\"\n",
    "HALF_PLUS_ONE = int(np.floor(n/2)) + 1"
   ]
  },
  {
   "cell_type": "code",
   "execution_count": null,
   "metadata": {},
   "outputs": [],
   "source": [
    "def broadcast(epoch, round, message):\n",
    "    pass    \n",
    "def receive(epoch, round, message=None):\n",
    "    pass\n",
    "def majority_value():       # use round_messages dict to find the majority value\n",
    "    pass\n",
    "def get_messages_count():   # store in round_messages the count per every value\n",
    "    pass\n",
    "def quantum_coin_flip():\n",
    "    return n*\"1\""
   ]
  },
  {
   "cell_type": "code",
   "execution_count": null,
   "metadata": {},
   "outputs": [],
   "source": [
    "def agreement(input):\n",
    "    current = input\n",
    "    next = False\n",
    "    epoch = 0\n",
    "    while True:\n",
    "        epoch += 1\n",
    "        broadcast(epoch, 1, current)\n",
    "        receive(epoch, 1)\n",
    "        \n",
    "        get_messages_count()\n",
    "        current = majority_value()\n",
    "\n",
    "        broadcast(epoch, 2, current)\n",
    "        receive(epoch, 2)\n",
    "\n",
    "        get_messages_count()\n",
    "        most_frequent_val = max(round_messages, key=round_messages.get)\n",
    "        answer = None\n",
    "        if most_frequent_val != QUESTION_MARK:\n",
    "            answer = most_frequent_val\n",
    "        number = round_messages.get(most_frequent_val)\n",
    "\n",
    "        broadcast(epoch, 3, WAITING_MESSAGE)\n",
    "        receive(epoch, 3, WAITING_MESSAGE)\n",
    "\n",
    "        coin = quantum_coin_flip()\n",
    "\n",
    "        if next: \n",
    "            break\n",
    "        \n",
    "        if number >= HALF_PLUS_ONE:\n",
    "            current = answer\n",
    "            next = True\n",
    "        elif number >= 1:\n",
    "            current = answer\n",
    "        else:\n",
    "            current = coin\n",
    "    return current"
   ]
  }
 ],
 "metadata": {
  "language_info": {
   "name": "python"
  }
 },
 "nbformat": 4,
 "nbformat_minor": 2
}
