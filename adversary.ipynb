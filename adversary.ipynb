{
 "cells": [
  {
   "cell_type": "code",
   "execution_count": null,
   "metadata": {},
   "outputs": [],
   "source": [
    "from globals import t\n",
    "import random\n",
    "\n",
    "num_faults = 0"
   ]
  },
  {
   "cell_type": "code",
   "execution_count": null,
   "metadata": {},
   "outputs": [],
   "source": [
    "def adversary_take_over():\n",
    "    print(\"t: \", t)\n",
    "    if num_faults < t:\n",
    "        intervene = random.choice([0,1])\n",
    "        print(\"intervene: \", intervene)\n",
    "        if intervene:\n",
    "            print(\"we want to intervene\")\n",
    "\n",
    "adversary_take_over()"
   ]
  }
 ],
 "metadata": {
  "kernelspec": {
   "display_name": ".venv",
   "language": "python",
   "name": "python3"
  },
  "language_info": {
   "codemirror_mode": {
    "name": "ipython",
    "version": 3
   },
   "file_extension": ".py",
   "mimetype": "text/x-python",
   "name": "python",
   "nbconvert_exporter": "python",
   "pygments_lexer": "ipython3",
   "version": "3.10.4"
  }
 },
 "nbformat": 4,
 "nbformat_minor": 2
}
