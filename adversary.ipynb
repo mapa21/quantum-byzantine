{
 "cells": [
  {
   "cell_type": "code",
   "execution_count": null,
   "metadata": {},
   "outputs": [],
   "source": [
    "import sys\n",
    "try:\n",
    "    del sys.modules['globals']\n",
    "except KeyError:\n",
    "    pass\n",
    "from globals import t, get_n, coin_lock, leader_lock\n",
    "import random"
   ]
  },
  {
   "cell_type": "code",
   "execution_count": null,
   "metadata": {},
   "outputs": [],
   "source": [
    "def adversary_take_over(process, curr_coin_msgs, curr_leader_msgs, processes):\n",
    "    new_receivers = None\n",
    "    num_faults = [1 for pr in processes if not pr.non_faulty].count(1)\n",
    "    if num_faults < t and process.non_faulty:\n",
    "        intervene = random.choice([0,1])\n",
    "        if intervene:\n",
    "            process.non_faulty = False\n",
    "            n = get_n()\n",
    "            new_receivers = [n for n in range(0,n) if random.choice([0,1])]\n",
    "            coin_lock.acquire()\n",
    "            for msg in curr_coin_msgs:\n",
    "                if msg.sender == process.id:\n",
    "                    msg.receivers = new_receivers\n",
    "                    break\n",
    "            coin_lock.release()\n",
    "            \n",
    "            leader_lock.acquire()\n",
    "            for msg in curr_leader_msgs:\n",
    "                if msg.sender == process.id:\n",
    "                    msg.receivers = new_receivers\n",
    "                    break\n",
    "            leader_lock.release()\n",
    "    return new_receivers"
   ]
  }
 ],
 "metadata": {
  "kernelspec": {
   "display_name": ".venv",
   "language": "python",
   "name": "python3"
  },
  "language_info": {
   "codemirror_mode": {
    "name": "ipython",
    "version": 3
   },
   "file_extension": ".py",
   "mimetype": "text/x-python",
   "name": "python",
   "nbconvert_exporter": "python",
   "pygments_lexer": "ipython3",
   "version": "3.10.4"
  }
 },
 "nbformat": 4,
 "nbformat_minor": 2
}
