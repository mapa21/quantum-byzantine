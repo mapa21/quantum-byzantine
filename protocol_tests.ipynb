{
 "cells": [
  {
   "cell_type": "code",
   "execution_count": null,
   "metadata": {},
   "outputs": [],
   "source": [
    "#!pip install ipynb"
   ]
  },
  {
   "cell_type": "code",
   "execution_count": null,
   "metadata": {},
   "outputs": [],
   "source": [
    "from ipynb.fs.full.fail_stop_agreement import agreement, Process\n",
    "import threading\n",
    "\n",
    "n = 4"
   ]
  },
  {
   "cell_type": "code",
   "execution_count": null,
   "metadata": {},
   "outputs": [],
   "source": [
    "def test_same_input(input):\n",
    "    threads = []\n",
    "    processes = []\n",
    "\n",
    "    for i in range(0, n):\n",
    "        pr = Process(i, input)\n",
    "        processes.append(pr)\n",
    "\n",
    "        thr = threading.Thread(target=agreement, args=((pr,)))\n",
    "        threads.append(thr)\n",
    "\n",
    "    for thr in threads:    \n",
    "        thr.start()\n",
    "\n",
    "    for thr in threads:\n",
    "        thr.join()\n",
    "\n",
    "    print(\"*******   SOLUTION:   *******\")\n",
    "    for pr in processes:\n",
    "        print(\"process(\", pr.id, \") = \", pr.output, \" @epoch: \", pr.decision_epoch)\n",
    "        if pr.output != input or pr.decision_epoch != 1:\n",
    "            return False\n",
    "    print()\n",
    "    return True"
   ]
  },
  {
   "cell_type": "code",
   "execution_count": null,
   "metadata": {},
   "outputs": [],
   "source": [
    "# During each epoch, both of the values 0 and 1 are never sent in any execution of round 2\n",
    "def test_lemma_9():\n",
    "    threads = []\n",
    "    processes = []\n",
    "\n",
    "    for i in range(0, n):\n",
    "        pr = Process(i, str(i%2))\n",
    "        processes.append(pr)\n",
    "\n",
    "        thr = threading.Thread(target=agreement, args=((pr,)))\n",
    "        threads.append(thr)\n",
    "\n",
    "    for thr in threads:    \n",
    "        thr.start()\n",
    "\n",
    "    for thr in threads:\n",
    "        thr.join()\n",
    "\n",
    "    # Pre-processing: get all round 2 messages per epoch\n",
    "    epochs_num = [pr.decision_epoch+1 for pr in processes]\n",
    "    total_epochs = max(epochs_num)\n",
    "    \n",
    "    round2_msgs_per_epoch = [[]] * total_epochs\n",
    "\n",
    "    for pr in processes:\n",
    "        for msg in pr.broadcasted_messages:\n",
    "            if msg.round == 2:\n",
    "                round2_msgs_per_epoch[msg.epoch-1].append(msg.message)      # epoch numbers start at 1 but list positions start at 0\n",
    "    \n",
    "    for epoch_msgs in round2_msgs_per_epoch:\n",
    "        ocurrences_0 = epoch_msgs.count(\"0\")\n",
    "        ocurrences_1 = epoch_msgs.count(\"1\")\n",
    "        if ocurrences_0 > 0 and ocurrences_1 > 0:\n",
    "            return False\n",
    "    return True\n",
    "\n"
   ]
  },
  {
   "cell_type": "code",
   "execution_count": null,
   "metadata": {},
   "outputs": [],
   "source": [
    "#print(test_same_input(\"0\"))\n",
    "#print(test_same_input(\"1\"))\n",
    "print(test_lemma_9())"
   ]
  }
 ],
 "metadata": {
  "kernelspec": {
   "display_name": ".venv",
   "language": "python",
   "name": "python3"
  },
  "language_info": {
   "codemirror_mode": {
    "name": "ipython",
    "version": 3
   },
   "file_extension": ".py",
   "mimetype": "text/x-python",
   "name": "python",
   "nbconvert_exporter": "python",
   "pygments_lexer": "ipython3",
   "version": "3.10.4"
  }
 },
 "nbformat": 4,
 "nbformat_minor": 2
}
