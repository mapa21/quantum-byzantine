{
 "cells": [
  {
   "cell_type": "code",
   "execution_count": null,
   "metadata": {},
   "outputs": [],
   "source": [
    "#!pip install ipynb"
   ]
  },
  {
   "cell_type": "code",
   "execution_count": null,
   "metadata": {},
   "outputs": [],
   "source": [
    "from ipynb.fs.full.fail_stop_agreement import agreement, Process\n",
    "import threading\n",
    "\n",
    "n = 4"
   ]
  },
  {
   "cell_type": "code",
   "execution_count": null,
   "metadata": {},
   "outputs": [],
   "source": [
    "def test_same_input(input):\n",
    "    threads = []\n",
    "    processes = []\n",
    "\n",
    "    for i in range(0, n):\n",
    "        pr = Process(i, input)\n",
    "        processes.append(pr)\n",
    "\n",
    "        thr = threading.Thread(target=agreement, args=((pr,)))\n",
    "        threads.append(thr)\n",
    "\n",
    "    for thr in threads:    \n",
    "        thr.start()\n",
    "\n",
    "    for thr in threads:\n",
    "        thr.join()\n",
    "\n",
    "    print(\"*******   SOLUTION:   *******\")\n",
    "    for pr in processes:\n",
    "        print(\"process(\", pr.id, \") = \", pr.output, \" @epoch: \", pr.decision_epoch)\n",
    "        if pr.output != input or pr.decision_epoch != 1:\n",
    "            return False\n",
    "    print()\n",
    "    return True"
   ]
  },
  {
   "cell_type": "code",
   "execution_count": null,
   "metadata": {},
   "outputs": [],
   "source": [
    "test_same_input(\"0\")\n",
    "test_same_input(\"1\")"
   ]
  }
 ],
 "metadata": {
  "kernelspec": {
   "display_name": ".venv",
   "language": "python",
   "name": "python3"
  },
  "language_info": {
   "codemirror_mode": {
    "name": "ipython",
    "version": 3
   },
   "file_extension": ".py",
   "mimetype": "text/x-python",
   "name": "python",
   "nbconvert_exporter": "python",
   "pygments_lexer": "ipython3",
   "version": "3.10.4"
  }
 },
 "nbformat": 4,
 "nbformat_minor": 2
}
