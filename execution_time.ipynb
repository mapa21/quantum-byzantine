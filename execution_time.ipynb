{
 "cells": [
  {
   "cell_type": "code",
   "execution_count": null,
   "metadata": {},
   "outputs": [],
   "source": [
    "import ipynb.fs.full.fail_stop_agreement as FS\n",
    "from protocol_tests import test_all\n",
    "from globals import *\n",
    "\n",
    "import threading\n",
    "import random\n",
    "import time\n",
    "import statistics"
   ]
  },
  {
   "cell_type": "code",
   "execution_count": null,
   "metadata": {},
   "outputs": [],
   "source": [
    "def clean():\n",
    "    FS.broadcasted_messages.clear()\n",
    "    FS.first_to_decide = None"
   ]
  },
  {
   "cell_type": "code",
   "execution_count": null,
   "metadata": {},
   "outputs": [],
   "source": [
    "def execute():\n",
    "    threads = []\n",
    "    processes = []\n",
    "    start_time = -1\n",
    "\n",
    "    clean()\n",
    "\n",
    "    for i in range(0, get_n()):\n",
    "        pr = FS.Process(i, str(random.choice([0,1])))\n",
    "        processes.append(pr)\n",
    "        thr = threading.Thread(target=FS.agreement, args=((pr, processes)))\n",
    "        threads.append(thr)\n",
    "\n",
    "    for thr in threads:    \n",
    "        start_time = time.time()\n",
    "        thr.start()\n",
    "\n",
    "    for thr in threads:\n",
    "        thr.join()\n",
    "        finish_time = time.time()\n",
    "\n",
    "    print(\"*******   SOLUTION:   *******\")\n",
    "    for pr in processes:\n",
    "        print(\"process(\", pr.id, \") = \", pr.output, \" @epoch: \", pr.decision_epoch, \" | input: \", pr.input_val, \" | faulty: \", not pr.non_faulty)\n",
    "\n",
    "    test_all(processes, FS.first_to_decide, FS.broadcasted_messages)\n",
    "    return finish_time - start_time"
   ]
  },
  {
   "cell_type": "code",
   "execution_count": null,
   "metadata": {},
   "outputs": [],
   "source": [
    "execution_times = []\n",
    "for i in range(10):\n",
    "    curr_time = execute()\n",
    "    print(curr_time)\n",
    "    execution_times.append(curr_time)"
   ]
  }
 ],
 "metadata": {
  "kernelspec": {
   "display_name": ".venv",
   "language": "python",
   "name": "python3"
  },
  "language_info": {
   "codemirror_mode": {
    "name": "ipython",
    "version": 3
   },
   "file_extension": ".py",
   "mimetype": "text/x-python",
   "name": "python",
   "nbconvert_exporter": "python",
   "pygments_lexer": "ipython3",
   "version": "3.10.4"
  }
 },
 "nbformat": 4,
 "nbformat_minor": 2
}
